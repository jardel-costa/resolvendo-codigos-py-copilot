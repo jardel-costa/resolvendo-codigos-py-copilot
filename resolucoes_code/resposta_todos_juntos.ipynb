{
 "cells": [
  {
   "cell_type": "markdown",
   "metadata": {},
   "source": [
    "# Vamos receber dois dados diferentes do usuário e concatena-los em uma única string?!"
   ]
  },
  {
   "cell_type": "code",
   "execution_count": 1,
   "metadata": {},
   "outputs": [
    {
     "name": "stdout",
     "output_type": "stream",
     "text": [
      "Desafio Dio\n"
     ]
    }
   ],
   "source": [
    "info1 = input('informação 1: ')\n",
    "info2 = input('informação 2: ')\n",
    "\n",
    "info_concatenadas = info1 + \" \" + info2\n",
    "\n",
    "print(info_concatenadas)"
   ]
  },
  {
   "cell_type": "markdown",
   "metadata": {},
   "source": [
    "'''\n",
    "Desafio: Receber dois dados do usuário e concatena-los em uma única string!\n",
    "Entrada: Duas strings\n",
    "Saída: String resultante da concatenação das duas strings recebidas\n",
    "Exemplo de Entrada: \n",
    "informação 1: João\n",
    "informação 2: Maria\n",
    "Saída: João Maria\n",
    "'''"
   ]
  },
  {
   "cell_type": "markdown",
   "metadata": {},
   "source": [
    "# Agora vamos solicitar uma string e um número inteiro como entrada. Depois teremos que retornar a string repetida o número de vezes informado. "
   ]
  },
  {
   "cell_type": "code",
   "execution_count": 2,
   "metadata": {},
   "outputs": [],
   "source": [
    "def repeat_string(string, num):\n",
    "    return string * num"
   ]
  },
  {
   "cell_type": "code",
   "execution_count": 5,
   "metadata": {},
   "outputs": [
    {
     "data": {
      "text/plain": [
       "'Eu te amo! Eu te amo! Eu te amo! Eu te amo! Eu te amo! Eu te amo! Eu te amo! '"
      ]
     },
     "execution_count": 5,
     "metadata": {},
     "output_type": "execute_result"
    }
   ],
   "source": [
    "repeat_string (\"Eu te amo! \", 7)"
   ]
  },
  {
   "cell_type": "markdown",
   "metadata": {},
   "source": [
    "    \"\"\"\n",
    "    Repeats a given string a specified number of times.\n",
    "    \n",
    "    Args:\n",
    "        string (str): The string to be repeated.\n",
    "        num (int): The number of times to repeat the string.\n",
    "        \n",
    "    Returns:\n",
    "        str: The repeated string.\n",
    "    \"\"\""
   ]
  },
  {
   "cell_type": "markdown",
   "metadata": {},
   "source": [
    "# Vamos solicitar como entrada dois números e depois vamos realizar uma operação simples entre eles."
   ]
  },
  {
   "cell_type": "code",
   "execution_count": 1,
   "metadata": {},
   "outputs": [
    {
     "name": "stdout",
     "output_type": "stream",
     "text": [
      "A soma dos números é:  1000\n"
     ]
    }
   ],
   "source": [
    "num1 = int(input('Digite o primeiro número: '))\n",
    "num2 = int(input('Digite o segundo número: '))\n",
    "soma = num1 + num2\n",
    "print('A soma dos números é: ', soma)\n",
    "\n"
   ]
  },
  {
   "cell_type": "markdown",
   "metadata": {},
   "source": [
    "'''\n",
    "\n",
    "Explicação:\n",
    "\n",
    "1. A função `input()` é utilizada para receber dados do usuário. O resultado é uma string.\n",
    "2. Em seguida, é feito o casting da string para um inteiro usando a função `int()`.\n",
    "3. A soma dos dois números é realizada e o resultado é armazenado na variável `soma`.\n",
    "4. A função `print()` é utilizada para exibir uma mensagem na tela, e o resultado da soma é exibido usando o operador `+`.\n",
    "\n",
    "Observe que o operador `+` é usado para concatenar strings, enquanto para somar números é utilizado o operador `+`.\n",
    "\n",
    "'''"
   ]
  }
 ],
 "metadata": {
  "kernelspec": {
   "display_name": "Python 3",
   "language": "python",
   "name": "python3"
  },
  "language_info": {
   "codemirror_mode": {
    "name": "ipython",
    "version": 3
   },
   "file_extension": ".py",
   "mimetype": "text/x-python",
   "name": "python",
   "nbconvert_exporter": "python",
   "pygments_lexer": "ipython3",
   "version": "3.11.8"
  }
 },
 "nbformat": 4,
 "nbformat_minor": 2
}
